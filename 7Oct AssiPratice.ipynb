{
 "cells": [
  {
   "cell_type": "code",
   "execution_count": 40,
   "id": "e3772a7c-0d8c-4525-9505-2c89e8208d2c",
   "metadata": {},
   "outputs": [],
   "source": [
    "'''Problem 1: Bank Account Create a class representing a bank account with attributes \n",
    "like account number, account holder name, and balance. \n",
    "Implement methods to deposit and withdraw money from the account.'''\n",
    "\n",
    "\n",
    "# code\n",
    "class bank_account:\n",
    "   \n",
    "    def account_number(self,acc_num):\n",
    "        print(\"Enter your account number\")\n",
    "        return acc_num\n",
    "    def account_holder_name(self,name):\n",
    "        print(\"Enter your account holder name\")\n",
    "        return name\n",
    "    def balance(self,acc_bal):\n",
    "        print(\"Your account Balance is : \")\n",
    "        return acc_bal\n",
    "    def deposite(self,ammount):\n",
    "        print(\"I am trying to deposite an amount in my account\")\n",
    "        return ammount\n",
    "    def withdraw(self,amt_with):\n",
    "        print(\"Withdraw the amount\")\n",
    "        return amt_with"
   ]
  },
  {
   "cell_type": "code",
   "execution_count": 41,
   "id": "809447de-e0f1-4f0a-9856-016e63410958",
   "metadata": {},
   "outputs": [],
   "source": [
    "bank = bank_account()"
   ]
  },
  {
   "cell_type": "code",
   "execution_count": 17,
   "id": "7a5dfb6c-5e59-4f5c-86ec-f688707d2d0b",
   "metadata": {},
   "outputs": [
    {
     "name": "stdout",
     "output_type": "stream",
     "text": [
      "Enter your account number\n"
     ]
    },
    {
     "data": {
      "text/plain": [
       "123456"
      ]
     },
     "execution_count": 17,
     "metadata": {},
     "output_type": "execute_result"
    }
   ],
   "source": [
    "bank. account_number(123456)"
   ]
  },
  {
   "cell_type": "code",
   "execution_count": 19,
   "id": "784cd940-5afa-46b5-8736-18acdf228ef5",
   "metadata": {},
   "outputs": [
    {
     "name": "stdout",
     "output_type": "stream",
     "text": [
      "Enter your account holder name\n"
     ]
    },
    {
     "data": {
      "text/plain": [
       "'samartha'"
      ]
     },
     "execution_count": 19,
     "metadata": {},
     "output_type": "execute_result"
    }
   ],
   "source": [
    "bank.account_holder_name(\"samartha\")"
   ]
  },
  {
   "cell_type": "code",
   "execution_count": 30,
   "id": "ce7a5c7f-0d87-44d4-b087-6344de5c2900",
   "metadata": {},
   "outputs": [
    {
     "name": "stdout",
     "output_type": "stream",
     "text": [
      "Your account Balance is : \n"
     ]
    },
    {
     "data": {
      "text/plain": [
       "10000"
      ]
     },
     "execution_count": 30,
     "metadata": {},
     "output_type": "execute_result"
    }
   ],
   "source": [
    "bank.balance(10000)"
   ]
  },
  {
   "cell_type": "code",
   "execution_count": 38,
   "id": "17febc8d-ccfc-4bae-9874-e6431d8c9031",
   "metadata": {},
   "outputs": [
    {
     "name": "stdout",
     "output_type": "stream",
     "text": [
      "I am trying to deposite an amount in my account\n"
     ]
    },
    {
     "data": {
      "text/plain": [
       "50000"
      ]
     },
     "execution_count": 38,
     "metadata": {},
     "output_type": "execute_result"
    }
   ],
   "source": [
    "bank.deposite(50000)"
   ]
  },
  {
   "cell_type": "code",
   "execution_count": 42,
   "id": "2ca6362e-9d96-4160-955f-cde23535c82a",
   "metadata": {},
   "outputs": [
    {
     "name": "stdout",
     "output_type": "stream",
     "text": [
      "Withdraw the amount\n"
     ]
    },
    {
     "data": {
      "text/plain": [
       "60000"
      ]
     },
     "execution_count": 42,
     "metadata": {},
     "output_type": "execute_result"
    }
   ],
   "source": [
    "bank.withdraw(60000)"
   ]
  },
  {
   "cell_type": "code",
   "execution_count": null,
   "id": "fcac0ba7-edf6-4a53-a110-558154cbf4d7",
   "metadata": {},
   "outputs": [],
   "source": []
  },
  {
   "cell_type": "code",
   "execution_count": 1,
   "id": "605db1c0-b1a5-4ca7-85b8-bf819fcd5959",
   "metadata": {},
   "outputs": [
    {
     "name": "stdout",
     "output_type": "stream",
     "text": [
      "Yearly Bonus: 5000.0\n",
      "Employee ID: 1\n",
      "Name: John Doe\n",
      "Salary: 50000\n"
     ]
    }
   ],
   "source": [
    "'''Problem 2: Employee Management Create a class representing an employee with attributes like employee ID, name, and salary.\n",
    "Implement methods to calculate the yearly bonus and display employee details'''\n",
    "\n",
    "\n",
    "# code\n",
    "class Employee:\n",
    "    def __init__(self, employee_id, name, salary):\n",
    "        self.employee_id = employee_id\n",
    "        self.name = name\n",
    "        self.salary = salary\n",
    "\n",
    "    def calculate_yearly_bonus(self, bonus_percentage):\n",
    "        bonus = (bonus_percentage / 100) * self.salary\n",
    "        return bonus\n",
    "\n",
    "    def display_employee_details(self):\n",
    "        print(\"Employee ID:\", self.employee_id)\n",
    "        print(\"Name:\", self.name)\n",
    "        print(\"Salary:\", self.salary)\n",
    "\n",
    "# Example usage:\n",
    "if __name__ == \"__main__\":\n",
    "    # Create an Employee instance\n",
    "    employee1 = Employee(1, \"John Doe\", 50000)\n",
    "\n",
    "    # Calculate and display the yearly bonus\n",
    "    bonus_percentage = 10  # 10% bonus\n",
    "    yearly_bonus = employee1.calculate_yearly_bonus(bonus_percentage)\n",
    "    print(\"Yearly Bonus:\", yearly_bonus)\n",
    "\n",
    "    # Display employee details\n",
    "    employee1.display_employee_details()\n"
   ]
  },
  {
   "cell_type": "code",
   "execution_count": null,
   "id": "1781f72a-3f29-4f03-bb0d-301dc32841de",
   "metadata": {},
   "outputs": [],
   "source": []
  },
  {
   "cell_type": "code",
   "execution_count": 2,
   "id": "cabdc0f3-05d2-4e1f-9fa5-e3ee69a19fb7",
   "metadata": {},
   "outputs": [
    {
     "name": "stdout",
     "output_type": "stream",
     "text": [
      "Vehicle 1 (car) added to the system.\n",
      "Vehicle 2 (bike) added to the system.\n",
      "Vehicle 3 (car) added to the system.\n",
      "Available Vehicles:\n",
      "Vehicle ID: 1, Type: car\n",
      "Vehicle ID: 2, Type: bike\n",
      "Vehicle ID: 3, Type: car\n",
      "Vehicle 2 (bike) has been rented.\n",
      "Available Vehicles:\n",
      "Vehicle ID: 1, Type: car\n",
      "Vehicle ID: 3, Type: car\n",
      "Vehicle 2 (bike) has been returned.\n",
      "Available Vehicles:\n",
      "Vehicle ID: 1, Type: car\n",
      "Vehicle ID: 3, Type: car\n",
      "Vehicle ID: 2, Type: bike\n"
     ]
    }
   ],
   "source": [
    "'''Problem 3: Vehicle Rental Create a class representing a vehicle rental system. \n",
    "Implement methods to rent a vehicle, return a vehicle, and display available vehicles.'''\n",
    "\n",
    "# code\n",
    "class VehicleRentalSystem:\n",
    "    def __init__(self):\n",
    "        self.available_vehicles = {}  # A dictionary to store available vehicles\n",
    "\n",
    "    def add_vehicle(self, vehicle_id, vehicle_type):\n",
    "        \"\"\"\n",
    "        Add a new vehicle to the rental system.\n",
    "        Args:\n",
    "            vehicle_id (int): The unique identifier for the vehicle.\n",
    "            vehicle_type (str): The type of the vehicle (e.g., \"car\", \"bike\").\n",
    "        \"\"\"\n",
    "        if vehicle_id not in self.available_vehicles:\n",
    "            self.available_vehicles[vehicle_id] = vehicle_type\n",
    "            print(f\"Vehicle {vehicle_id} ({vehicle_type}) added to the system.\")\n",
    "        else:\n",
    "            print(f\"Vehicle {vehicle_id} already exists in the system.\")\n",
    "\n",
    "    def rent_vehicle(self, vehicle_id):\n",
    "        \"\"\"\n",
    "        Rent a vehicle from the rental system.\n",
    "        Args:\n",
    "            vehicle_id (int): The unique identifier for the vehicle.\n",
    "        \"\"\"\n",
    "        if vehicle_id in self.available_vehicles:\n",
    "            vehicle_type = self.available_vehicles.pop(vehicle_id)\n",
    "            print(f\"Vehicle {vehicle_id} ({vehicle_type}) has been rented.\")\n",
    "        else:\n",
    "            print(f\"Vehicle {vehicle_id} is not available for rent.\")\n",
    "\n",
    "    def return_vehicle(self, vehicle_id, vehicle_type):\n",
    "        \"\"\"\n",
    "        Return a rented vehicle to the rental system.\n",
    "        Args:\n",
    "            vehicle_id (int): The unique identifier for the vehicle.\n",
    "            vehicle_type (str): The type of the vehicle being returned.\n",
    "        \"\"\"\n",
    "        if vehicle_id in self.available_vehicles:\n",
    "            print(f\"Vehicle {vehicle_id} ({vehicle_type}) is already available.\")\n",
    "        else:\n",
    "            self.available_vehicles[vehicle_id] = vehicle_type\n",
    "            print(f\"Vehicle {vehicle_id} ({vehicle_type}) has been returned.\")\n",
    "\n",
    "    def display_available_vehicles(self):\n",
    "        \"\"\"\n",
    "        Display the list of available vehicles in the system.\n",
    "        \"\"\"\n",
    "        if self.available_vehicles:\n",
    "            print(\"Available Vehicles:\")\n",
    "            for vehicle_id, vehicle_type in self.available_vehicles.items():\n",
    "                print(f\"Vehicle ID: {vehicle_id}, Type: {vehicle_type}\")\n",
    "        else:\n",
    "            print(\"No vehicles are currently available for rent.\")\n",
    "\n",
    "# Example usage:\n",
    "if __name__ == \"__main__\":\n",
    "    rental_system = VehicleRentalSystem()\n",
    "\n",
    "    rental_system.add_vehicle(1, \"car\")\n",
    "    rental_system.add_vehicle(2, \"bike\")\n",
    "    rental_system.add_vehicle(3, \"car\")\n",
    "\n",
    "    rental_system.display_available_vehicles()\n",
    "\n",
    "    rental_system.rent_vehicle(2)\n",
    "    rental_system.display_available_vehicles()\n",
    "\n",
    "    rental_system.return_vehicle(2, \"bike\")\n",
    "    rental_system.display_available_vehicles()"
   ]
  },
  {
   "cell_type": "code",
   "execution_count": null,
   "id": "7ba4c255-fc29-4c6c-94e6-23b504377cb0",
   "metadata": {},
   "outputs": [],
   "source": []
  },
  {
   "cell_type": "code",
   "execution_count": 3,
   "id": "28bc2925-623e-489b-b622-5509a277b911",
   "metadata": {},
   "outputs": [
    {
     "name": "stdout",
     "output_type": "stream",
     "text": [
      "Available Books:\n",
      "'The Great Gatsby' by F. Scott Fitzgerald\n",
      "'To Kill a Mockingbird' by Harper Lee\n",
      "'1984' by George Orwell\n",
      "You have successfully borrowed 'The Great Gatsby' by F. Scott Fitzgerald.\n",
      "Available Books:\n",
      "'To Kill a Mockingbird' by Harper Lee\n",
      "'1984' by George Orwell\n",
      "You have successfully borrowed 'To Kill a Mockingbird' by Harper Lee.\n",
      "Available Books:\n",
      "'1984' by George Orwell\n",
      "You have returned 'To Kill a Mockingbird' by Harper Lee.\n",
      "Available Books:\n",
      "'To Kill a Mockingbird' by Harper Lee\n",
      "'1984' by George Orwell\n"
     ]
    }
   ],
   "source": [
    "'''Problem 4: Library Catalog Create classes representing a library and a book. \n",
    "Implement methods to add books to the library, borrow books, and display available books.'''\n",
    "\n",
    "# code\n",
    "class Book:\n",
    "    def __init__(self, title, author):\n",
    "        self.title = title\n",
    "        self.author = author\n",
    "        self.is_available = True\n",
    "\n",
    "    def borrow(self):\n",
    "        if self.is_available:\n",
    "            self.is_available = False\n",
    "            return f\"You have successfully borrowed '{self.title}' by {self.author}.\"\n",
    "        else:\n",
    "            return f\"'{self.title}' by {self.author} is already borrowed.\"\n",
    "\n",
    "    def return_book(self):\n",
    "        if not self.is_available:\n",
    "            self.is_available = True\n",
    "            return f\"You have returned '{self.title}' by {self.author}.\"\n",
    "        else:\n",
    "            return f\"'{self.title}' by {self.author} is already available in the library.\"\n",
    "\n",
    "\n",
    "class Library:\n",
    "    def __init__(self):\n",
    "        self.books = []\n",
    "\n",
    "    def add_book(self, book):\n",
    "        self.books.append(book)\n",
    "\n",
    "    def display_available_books(self):\n",
    "        available_books = [book for book in self.books if book.is_available]\n",
    "        if available_books:\n",
    "            print(\"Available Books:\")\n",
    "            for book in available_books:\n",
    "                print(f\"'{book.title}' by {book.author}\")\n",
    "        else:\n",
    "            print(\"No books are currently available in the library.\")\n",
    "\n",
    "\n",
    "# Example usage:\n",
    "if __name__ == \"__main__\":\n",
    "    library = Library()\n",
    "\n",
    "    book1 = Book(\"The Great Gatsby\", \"F. Scott Fitzgerald\")\n",
    "    book2 = Book(\"To Kill a Mockingbird\", \"Harper Lee\")\n",
    "    book3 = Book(\"1984\", \"George Orwell\")\n",
    "\n",
    "    library.add_book(book1)\n",
    "    library.add_book(book2)\n",
    "    library.add_book(book3)\n",
    "\n",
    "    library.display_available_books()\n",
    "\n",
    "    print(book1.borrow())\n",
    "    library.display_available_books()\n",
    "\n",
    "    print(book2.borrow())\n",
    "    library.display_available_books()\n",
    "\n",
    "    print(book2.return_book())\n",
    "    library.display_available_books()"
   ]
  },
  {
   "cell_type": "code",
   "execution_count": null,
   "id": "9afd0999-088c-41e6-a513-edf433d34181",
   "metadata": {},
   "outputs": [],
   "source": []
  },
  {
   "cell_type": "code",
   "execution_count": 4,
   "id": "2b1bf9ad-7a9c-48aa-a9a4-78cdb6a20ea1",
   "metadata": {},
   "outputs": [
    {
     "name": "stdout",
     "output_type": "stream",
     "text": [
      "Widget has been added to the inventory.\n",
      "Gadget has been added to the inventory.\n",
      "Doodad has been added to the inventory.\n",
      "Available Products:\n",
      "Product ID: 1, Name: Widget, Price: $10.99, Quantity: 50\n",
      "Product ID: 2, Name: Gadget, Price: $19.99, Quantity: 30\n",
      "Product ID: 3, Name: Doodad, Price: $5.49, Quantity: 75\n",
      "Quantity for Gadget has been updated to 40.\n",
      "Available Products:\n",
      "Product ID: 1, Name: Widget, Price: $10.99, Quantity: 50\n",
      "Product ID: 2, Name: Gadget, Price: $19.99, Quantity: 40\n",
      "Product ID: 3, Name: Doodad, Price: $5.49, Quantity: 75\n",
      "Product with ID 4 is not in the inventory.\n",
      "Available Products:\n",
      "Product ID: 1, Name: Widget, Price: $10.99, Quantity: 50\n",
      "Product ID: 2, Name: Gadget, Price: $19.99, Quantity: 40\n",
      "Product ID: 3, Name: Doodad, Price: $5.49, Quantity: 75\n"
     ]
    }
   ],
   "source": [
    "'''Problem 5: Product Inventory Create classes representing a product and an inventory system. \n",
    "Implement methods to add products to the inventory, update product quantity, and display available products.'''\n",
    "\n",
    "# code\n",
    "class Product:\n",
    "    def __init__(self, product_id, name, price, quantity):\n",
    "        self.product_id = product_id\n",
    "        self.name = name\n",
    "        self.price = price\n",
    "        self.quantity = quantity\n",
    "\n",
    "    def update_quantity(self, new_quantity):\n",
    "        self.quantity = new_quantity\n",
    "\n",
    "    def __str__(self):\n",
    "        return f\"Product ID: {self.product_id}, Name: {self.name}, Price: ${self.price:.2f}, Quantity: {self.quantity}\"\n",
    "\n",
    "\n",
    "class InventorySystem:\n",
    "    def __init__(self):\n",
    "        self.products = {}\n",
    "\n",
    "    def add_product(self, product):\n",
    "        if product.product_id not in self.products:\n",
    "            self.products[product.product_id] = product\n",
    "            print(f\"{product.name} has been added to the inventory.\")\n",
    "        else:\n",
    "            print(f\"{product.name} is already in the inventory.\")\n",
    "\n",
    "    def update_product_quantity(self, product_id, new_quantity):\n",
    "        if product_id in self.products:\n",
    "            self.products[product_id].update_quantity(new_quantity)\n",
    "            print(f\"Quantity for {self.products[product_id].name} has been updated to {new_quantity}.\")\n",
    "        else:\n",
    "            print(f\"Product with ID {product_id} is not in the inventory.\")\n",
    "\n",
    "    def display_available_products(self):\n",
    "        if self.products:\n",
    "            print(\"Available Products:\")\n",
    "            for product_id, product in self.products.items():\n",
    "                print(product)\n",
    "        else:\n",
    "            print(\"The inventory is empty.\")\n",
    "\n",
    "# Example usage:\n",
    "if __name__ == \"__main__\":\n",
    "    inventory = InventorySystem()\n",
    "\n",
    "    product1 = Product(1, \"Widget\", 10.99, 50)\n",
    "    product2 = Product(2, \"Gadget\", 19.99, 30)\n",
    "    product3 = Product(3, \"Doodad\", 5.49, 75)\n",
    "\n",
    "    inventory.add_product(product1)\n",
    "    inventory.add_product(product2)\n",
    "    inventory.add_product(product3)\n",
    "\n",
    "    inventory.display_available_products()\n",
    "\n",
    "    inventory.update_product_quantity(2, 40)\n",
    "    inventory.display_available_products()\n",
    "\n",
    "    inventory.update_product_quantity(4, 60)  # Product with ID 4 doesn't exist\n",
    "    inventory.display_available_products()"
   ]
  },
  {
   "cell_type": "code",
   "execution_count": null,
   "id": "1bc9f7ed-8d63-4cc3-91fe-4e2b2e8b3e52",
   "metadata": {},
   "outputs": [],
   "source": []
  },
  {
   "cell_type": "code",
   "execution_count": 5,
   "id": "8e0e8ae7-5743-4405-961e-64b1051f18d4",
   "metadata": {},
   "outputs": [
    {
     "name": "stdout",
     "output_type": "stream",
     "text": [
      "Rectangle - Area: 24 Perimeter: 20\n",
      "Circle - Area: 50.26548245743669 Circumference: 25.132741228718345\n",
      "Triangle - Area: 0.0 Perimeter: 12\n",
      "Cube - Volume: 27 Surface Area: 54\n"
     ]
    }
   ],
   "source": [
    "'''Problem 6: Shape Calculation Create a class representing a shape with attributes like length, width, and height. \n",
    "Implement methods to calculate the area and perimeter of the shape.'''\n",
    "\n",
    "# code\n",
    "class Shape:\n",
    "    def __init__(self, length=0, width=0, height=0):\n",
    "        self.length = length\n",
    "        self.width = width\n",
    "        self.height = height\n",
    "\n",
    "    def calculate_area(self):\n",
    "        pass  # Method to be implemented in subclasses\n",
    "\n",
    "    def calculate_perimeter(self):\n",
    "        pass  # Method to be implemented in subclasses\n",
    "\n",
    "    def calculate_volume(self):\n",
    "        pass  # Method to be implemented in subclasses\n",
    "\n",
    "    def calculate_surface_area(self):\n",
    "        pass  # Method to be implemented in subclasses\n",
    "\n",
    "class Rectangle(Shape):\n",
    "    def calculate_area(self):\n",
    "        return self.length * self.width\n",
    "\n",
    "    def calculate_perimeter(self):\n",
    "        return 2 * (self.length + self.width)\n",
    "\n",
    "class Circle(Shape):\n",
    "    def calculate_area(self):\n",
    "        from math import pi\n",
    "        return pi * (self.length/2)**2\n",
    "\n",
    "    def calculate_perimeter(self):\n",
    "        from math import pi\n",
    "        return 2 * pi * (self.length/2)\n",
    "\n",
    "class Triangle(Shape):\n",
    "    def calculate_area(self):\n",
    "        return 0.5 * self.length * self.height\n",
    "\n",
    "    def calculate_perimeter(self):\n",
    "        return self.length + self.width + self.height\n",
    "\n",
    "class Cube(Shape):\n",
    "    def calculate_volume(self):\n",
    "        return self.length**3\n",
    "\n",
    "    def calculate_surface_area(self):\n",
    "        return 6 * self.length**2\n",
    "\n",
    "# Example usage:\n",
    "if __name__ == \"__main__\":\n",
    "    rectangle = Rectangle(4, 6)\n",
    "    circle = Circle(8)\n",
    "    triangle = Triangle(5, 7)\n",
    "    cube = Cube(3)\n",
    "\n",
    "    print(\"Rectangle - Area:\", rectangle.calculate_area(), \"Perimeter:\", rectangle.calculate_perimeter())\n",
    "    print(\"Circle - Area:\", circle.calculate_area(), \"Circumference:\", circle.calculate_perimeter())\n",
    "    print(\"Triangle - Area:\", triangle.calculate_area(), \"Perimeter:\", triangle.calculate_perimeter())\n",
    "    print(\"Cube - Volume:\", cube.calculate_volume(), \"Surface Area:\", cube.calculate_surface_area())"
   ]
  },
  {
   "cell_type": "code",
   "execution_count": null,
   "id": "bf05ca13-7dfd-4b8a-b860-b10d26629e62",
   "metadata": {},
   "outputs": [],
   "source": []
  },
  {
   "cell_type": "code",
   "execution_count": 6,
   "id": "3bf41f65-f5d4-4c78-97e5-6fabc97b5466",
   "metadata": {},
   "outputs": [
    {
     "name": "stdout",
     "output_type": "stream",
     "text": [
      "Student ID: 1\n",
      "Name: John Doe\n",
      "Grades: 90, 85, 78\n",
      "Average Grade: 84.33333333333333\n",
      "\n",
      "\n",
      "Student ID: 2\n",
      "Name: Jane Smith\n",
      "Grades: 95, 88, 92\n",
      "Average Grade: 91.66666666666667\n"
     ]
    }
   ],
   "source": [
    "'''Problem 7: Student Management Create a class representing a student with attributes like student ID, name, and grades. \n",
    "Implement methods to calculate the average grade and display student details.'''\n",
    "\n",
    "# code\n",
    "class Student:\n",
    "    def __init__(self, student_id, name):\n",
    "        self.student_id = student_id\n",
    "        self.name = name\n",
    "        self.grades = []\n",
    "\n",
    "    def add_grade(self, grade):\n",
    "        self.grades.append(grade)\n",
    "\n",
    "    def calculate_average_grade(self):\n",
    "        if len(self.grades) == 0:\n",
    "            return 0  # Avoid division by zero\n",
    "        total = sum(self.grades)\n",
    "        average = total / len(self.grades)\n",
    "        return average\n",
    "\n",
    "    def display_student_details(self):\n",
    "        print(\"Student ID:\", self.student_id)\n",
    "        print(\"Name:\", self.name)\n",
    "        if len(self.grades) > 0:\n",
    "            print(\"Grades:\", \", \".join(map(str, self.grades)))\n",
    "            print(\"Average Grade:\", self.calculate_average_grade())\n",
    "        else:\n",
    "            print(\"No grades available for this student.\")\n",
    "\n",
    "# Example usage:\n",
    "if __name__ == \"__main__\":\n",
    "    student1 = Student(1, \"John Doe\")\n",
    "    student1.add_grade(90)\n",
    "    student1.add_grade(85)\n",
    "    student1.add_grade(78)\n",
    "\n",
    "    student2 = Student(2, \"Jane Smith\")\n",
    "    student2.add_grade(95)\n",
    "    student2.add_grade(88)\n",
    "    student2.add_grade(92)\n",
    "\n",
    "    student1.display_student_details()\n",
    "    print(\"\\n\")\n",
    "    student2.display_student_details()"
   ]
  },
  {
   "cell_type": "code",
   "execution_count": null,
   "id": "1010f3a9-83dc-4ed8-988a-bdbe0a4ce752",
   "metadata": {},
   "outputs": [],
   "source": []
  },
  {
   "cell_type": "code",
   "execution_count": 7,
   "id": "d2f1e134-e2d0-42ed-ba63-37833b1df745",
   "metadata": {},
   "outputs": [
    {
     "name": "stdout",
     "output_type": "stream",
     "text": [
      "Sender: sender@example.com\n",
      "Recipient: recipient@example.com\n",
      "Subject: Hello, World!\n",
      "Message:\n",
      "This is a test email message.\n",
      "Status: Email has not been sent yet.\n",
      "\n",
      "Sending the email...\n",
      "\n",
      "Email from sender@example.com to recipient@example.com has been sent.\n",
      "Subject: Hello, World!\n",
      "Message:\n",
      "This is a test email message.\n",
      "Sender: sender@example.com\n",
      "Recipient: recipient@example.com\n",
      "Subject: Hello, World!\n",
      "Message:\n",
      "This is a test email message.\n",
      "Status: Email has been sent.\n"
     ]
    }
   ],
   "source": [
    "'''Problem 8: Email Management Create a class representing an email with attributes like sender, recipient, and subject. \n",
    "Implement methods to send an email and display email details.'''\n",
    "\n",
    "# code\n",
    "class Email:\n",
    "    def __init__(self, sender, recipient, subject, message):\n",
    "        self.sender = sender\n",
    "        self.recipient = recipient\n",
    "        self.subject = subject\n",
    "        self.message = message\n",
    "        self.sent = False\n",
    "\n",
    "    def send_email(self):\n",
    "        # Simulate sending the email (you can implement actual email sending here)\n",
    "        self.sent = True\n",
    "        print(f\"Email from {self.sender} to {self.recipient} has been sent.\")\n",
    "        print(\"Subject:\", self.subject)\n",
    "        print(\"Message:\")\n",
    "        print(self.message)\n",
    "\n",
    "    def display_email_details(self):\n",
    "        print(\"Sender:\", self.sender)\n",
    "        print(\"Recipient:\", self.recipient)\n",
    "        print(\"Subject:\", self.subject)\n",
    "        print(\"Message:\")\n",
    "        print(self.message)\n",
    "        if self.sent:\n",
    "            print(\"Status: Email has been sent.\")\n",
    "        else:\n",
    "            print(\"Status: Email has not been sent yet.\")\n",
    "\n",
    "# Example usage:\n",
    "if __name__ == \"__main__\":\n",
    "    sender = \"sender@example.com\"\n",
    "    recipient = \"recipient@example.com\"\n",
    "    subject = \"Hello, World!\"\n",
    "    message = \"This is a test email message.\"\n",
    "\n",
    "    email = Email(sender, recipient, subject, message)\n",
    "\n",
    "    email.display_email_details()\n",
    "\n",
    "    print(\"\\nSending the email...\\n\")\n",
    "    email.send_email()\n",
    "\n",
    "    email.display_email_details()"
   ]
  },
  {
   "cell_type": "code",
   "execution_count": null,
   "id": "cea34b2f-fd78-4e87-af03-34d022e64f10",
   "metadata": {},
   "outputs": [],
   "source": []
  },
  {
   "cell_type": "code",
   "execution_count": 8,
   "id": "57c4177c-5204-41d5-8170-e44ffd34bd26",
   "metadata": {},
   "outputs": [
    {
     "name": "stdout",
     "output_type": "stream",
     "text": [
      "user123's Posts:\n",
      "1. I just had a great day at the park!\n",
      "2. Trying out a new recipe for dinner tonight.\n",
      "3. Exploring a new hiking trail this weekend.\n",
      "\n",
      "\n",
      "user456's Posts:\n",
      "1. Visited the art museum today. So much inspiration!\n",
      "2. Celebrating my birthday with friends and family.\n",
      "\n",
      "Searching for posts with 'hiking' in profile 1:\n",
      "Posts by user123 containing the keyword 'hiking':\n",
      "1. Exploring a new hiking trail this weekend.\n"
     ]
    }
   ],
   "source": [
    "'''Problem 9: Social Media Profile Create a class representing a social media profile with attributes like username and posts. \n",
    "Implement methods to add posts, display posts, and search for posts by keyword.'''\n",
    "\n",
    "# code\n",
    "class SocialMediaProfile:\n",
    "    def __init__(self, username):\n",
    "        self.username = username\n",
    "        self.posts = []\n",
    "\n",
    "    def add_post(self, post_text):\n",
    "        self.posts.append(post_text)\n",
    "\n",
    "    def display_posts(self):\n",
    "        if not self.posts:\n",
    "            print(f\"{self.username}'s profile has no posts.\")\n",
    "        else:\n",
    "            print(f\"{self.username}'s Posts:\")\n",
    "            for i, post in enumerate(self.posts, start=1):\n",
    "                print(f\"{i}. {post}\")\n",
    "\n",
    "    def search_posts(self, keyword):\n",
    "        matching_posts = [post for post in self.posts if keyword in post]\n",
    "        if not matching_posts:\n",
    "            print(f\"No posts found containing the keyword '{keyword}'.\")\n",
    "        else:\n",
    "            print(f\"Posts by {self.username} containing the keyword '{keyword}':\")\n",
    "            for i, post in enumerate(matching_posts, start=1):\n",
    "                print(f\"{i}. {post}\")\n",
    "\n",
    "# Example usage:\n",
    "if __name__ == \"__main__\":\n",
    "    profile1 = SocialMediaProfile(\"user123\")\n",
    "    profile1.add_post(\"I just had a great day at the park!\")\n",
    "    profile1.add_post(\"Trying out a new recipe for dinner tonight.\")\n",
    "    profile1.add_post(\"Exploring a new hiking trail this weekend.\")\n",
    "    \n",
    "    profile2 = SocialMediaProfile(\"user456\")\n",
    "    profile2.add_post(\"Visited the art museum today. So much inspiration!\")\n",
    "    profile2.add_post(\"Celebrating my birthday with friends and family.\")\n",
    "\n",
    "    profile1.display_posts()\n",
    "    print(\"\\n\")\n",
    "    profile2.display_posts()\n",
    "\n",
    "    print(\"\\nSearching for posts with 'hiking' in profile 1:\")\n",
    "    profile1.search_posts(\"hiking\")"
   ]
  },
  {
   "cell_type": "code",
   "execution_count": null,
   "id": "5a7a2175-68a2-48ee-9155-79cacad36596",
   "metadata": {},
   "outputs": [],
   "source": []
  },
  {
   "cell_type": "code",
   "execution_count": 9,
   "id": "2e905d18-5413-4ff6-a51c-1efab0dd753b",
   "metadata": {},
   "outputs": [
    {
     "name": "stdout",
     "output_type": "stream",
     "text": [
      "Pending Tasks:\n",
      "1. Task: Write report, Due Date: 2023-10-15\n",
      "2. Task: Prepare presentation, Due Date: 2023-10-20\n",
      "3. Task: Complete project, Due Date: 2023-11-05\n",
      "Invalid task index. Task not found.\n",
      "\n",
      "Pending tasks after marking tasks completed:\n",
      "Pending Tasks:\n",
      "1. Task: Write report, Due Date: 2023-10-15\n",
      "2. Task: Complete project, Due Date: 2023-11-05\n"
     ]
    }
   ],
   "source": [
    "'''Problem 10: ToDo List Create a class representing a ToDo list with attributes like tasks and due dates. \n",
    "Implement methods to add tasks, mark tasks as completed, and display pending tasks.'''\n",
    "\n",
    "# code\n",
    "class ToDoList:\n",
    "    def __init__(self):\n",
    "        self.tasks = []\n",
    "\n",
    "    def add_task(self, task, due_date):\n",
    "        self.tasks.append({\"task\": task, \"due_date\": due_date, \"completed\": False})\n",
    "\n",
    "    def mark_task_completed(self, task_index):\n",
    "        if 0 <= task_index < len(self.tasks):\n",
    "            self.tasks[task_index][\"completed\"] = True\n",
    "        else:\n",
    "            print(\"Invalid task index. Task not found.\")\n",
    "\n",
    "    def display_pending_tasks(self):\n",
    "        pending_tasks = [task for task in self.tasks if not task[\"completed\"]]\n",
    "        if not pending_tasks:\n",
    "            print(\"No pending tasks.\")\n",
    "        else:\n",
    "            print(\"Pending Tasks:\")\n",
    "            for i, task in enumerate(pending_tasks, start=1):\n",
    "                print(f\"{i}. Task: {task['task']}, Due Date: {task['due_date']}\")\n",
    "\n",
    "# Example usage:\n",
    "if __name__ == \"__main__\":\n",
    "    todo_list = ToDoList()\n",
    "\n",
    "    todo_list.add_task(\"Write report\", \"2023-10-15\")\n",
    "    todo_list.add_task(\"Prepare presentation\", \"2023-10-20\")\n",
    "    todo_list.add_task(\"Complete project\", \"2023-11-05\")\n",
    "\n",
    "    todo_list.display_pending_tasks()\n",
    "\n",
    "    todo_list.mark_task_completed(1)\n",
    "    todo_list.mark_task_completed(3)  # Invalid index\n",
    "\n",
    "    print(\"\\nPending tasks after marking tasks completed:\")\n",
    "    todo_list.display_pending_tasks()"
   ]
  },
  {
   "cell_type": "code",
   "execution_count": null,
   "id": "dc8489e5-0cfc-4285-9893-1458dcb114ec",
   "metadata": {},
   "outputs": [],
   "source": []
  }
 ],
 "metadata": {
  "kernelspec": {
   "display_name": "Python 3 (ipykernel)",
   "language": "python",
   "name": "python3"
  },
  "language_info": {
   "codemirror_mode": {
    "name": "ipython",
    "version": 3
   },
   "file_extension": ".py",
   "mimetype": "text/x-python",
   "name": "python",
   "nbconvert_exporter": "python",
   "pygments_lexer": "ipython3",
   "version": "3.10.8"
  }
 },
 "nbformat": 4,
 "nbformat_minor": 5
}
